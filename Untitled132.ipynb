{
  "nbformat": 4,
  "nbformat_minor": 0,
  "metadata": {
    "colab": {
      "provenance": [],
      "authorship_tag": "ABX9TyNLHfxNFWcfe3GlxPxB+5le",
      "include_colab_link": true
    },
    "kernelspec": {
      "name": "python3",
      "display_name": "Python 3"
    },
    "language_info": {
      "name": "python"
    }
  },
  "cells": [
    {
      "cell_type": "markdown",
      "metadata": {
        "id": "view-in-github",
        "colab_type": "text"
      },
      "source": [
        "<a href=\"https://colab.research.google.com/github/Ashishagrawa0503/linear-regression-/blob/main/Untitled132.ipynb\" target=\"_parent\"><img src=\"https://colab.research.google.com/assets/colab-badge.svg\" alt=\"Open In Colab\"/></a>"
      ]
    },
    {
      "cell_type": "markdown",
      "source": [
        "# **Linear regression model **"
      ],
      "metadata": {
        "id": "1aZVf3_ma8si"
      }
    },
    {
      "cell_type": "code",
      "execution_count": 1,
      "metadata": {
        "id": "gBf6yoLmeOAi"
      },
      "outputs": [],
      "source": [
        "import torch\n",
        "import torch.nn as nn\n",
        "import numpy as np\n",
        "import matplotlib.pyplot as plt"
      ]
    },
    {
      "cell_type": "code",
      "source": [
        "x_train = np.array([[3.3],[4.5],[5.5],[1.2],[6.8]],dtype=np.float32)\n",
        "y_train= np.array([[4.5],[5.5],[6.5],[2.4],[7.8]],dtype=np.float32)"
      ],
      "metadata": {
        "id": "NwCBvlmDjBgc"
      },
      "execution_count": 2,
      "outputs": []
    },
    {
      "cell_type": "code",
      "source": [
        "fig = plt.figure(figsize=(10,5))\n",
        "plt.plot(x_train,y_train,'ro',label='Original data')\n",
        "plt.xlabel('hours studies')\n",
        "plt.ylabel('result')\n",
        "plt.legend()\n",
        "plt.show()\n"
      ],
      "metadata": {
        "colab": {
          "base_uri": "https://localhost:8080/",
          "height": 466
        },
        "id": "ijcw4bGclFae",
        "outputId": "56d1b70c-bcfd-47b9-c2cb-a8e7ac8c4589"
      },
      "execution_count": 3,
      "outputs": [
        {
          "output_type": "display_data",
          "data": {
            "text/plain": [
              "<Figure size 1000x500 with 1 Axes>"
            ],
            "image/png": "[encoded data removed]"
          },
          "metadata": {}
        }
      ]
    },
    {
      "cell_type": "code",
      "source": [
        "x_train,y_train"
      ],
      "metadata": {
        "colab": {
          "base_uri": "https://localhost:8080/"
        },
        "id": "I-gx1Dx2ls-V",
        "outputId": "554b5ac1-965c-4a4e-c8c5-8dd22041b693"
      },
      "execution_count": 4,
      "outputs": [
        {
          "output_type": "execute_result",
          "data": {
            "text/plain": [
              "(array([[3.3],\n",
              "        [4.5],\n",
              "        [5.5],\n",
              "        [1.2],\n",
              "        [6.8]], dtype=float32),\n",
              " array([[4.5],\n",
              "        [5.5],\n",
              "        [6.5],\n",
              "        [2.4],\n",
              "        [7.8]], dtype=float32))"
            ]
          },
          "metadata": {},
          "execution_count": 4
        }
      ]
    },
    {
      "cell_type": "code",
      "source": [
        "x_train=torch.from_numpy(x_train)\n",
        "y_train=torch.from_numpy(y_train)"
      ],
      "metadata": {
        "id": "iXa3WjHbmffx"
      },
      "execution_count": 5,
      "outputs": []
    },
    {
      "cell_type": "code",
      "source": [
        "x_train"
      ],
      "metadata": {
        "colab": {
          "base_uri": "https://localhost:8080/"
        },
        "id": "elVatKy5m9VY",
        "outputId": "59a82e6d-d627-4021-cbe3-0d8601d039b5"
      },
      "execution_count": 6,
      "outputs": [
        {
          "output_type": "execute_result",
          "data": {
            "text/plain": [
              "tensor([[3.3000],\n",
              "        [4.5000],\n",
              "        [5.5000],\n",
              "        [1.2000],\n",
              "        [6.8000]])"
            ]
          },
          "metadata": {},
          "execution_count": 6
        }
      ]
    },
    {
      "cell_type": "code",
      "source": [
        "#build a linear regression model\n",
        "class LinearRegression(nn.Module):\n",
        "  def __init__(self):#constractor hai ye\n",
        "    super().__init__()\n",
        "    #super().__init__ isko pytoch wale class hai (nn.Module) uske constractor ko call krne ke liye likhte hai\n",
        "    self.linear=nn.Linear(1,1)\n",
        "    #(1,1)ek inupt or ek output ka nural network hai nn.linear se nural network ban jayege or aap jitnr\n",
        "    # chaho utne layer baana sktea hai\n",
        "\n",
        "  def forward(self,x):\n",
        "    pred=self.linear(x)\n",
        "    return pred\n",
        "#jab be hum class ko call karege to jo be constractor ke andar likha hai wo khd ka khud call ho jayega (supper().__init__ or\n",
        "# sel.linear=nn.Linear(1,1,) khud call ho jayega)par forward nhi chalega jab tak usko call na kare\n",
        "#ye upper jo class bnaya hai uska object baana diya jisse us class ka use kr skae jaise yadi adi=LinearRegression() likha hai\n",
        "#to ab adi be linearregression wale calss ka u[pyoj kr skta hai]\n",
        "\"\"\"\n",
        "self be ek object hai kewal or self ko aap kisse be naam se bula skte ho self be model or adi ke traha kam karega\n",
        "iska upyog class ke andar two different method ko aapas me baat krne ke liye bnaya jata hai\n",
        "upper (self.linear= nn.Linear(1,1)) likha hai to yadfi ham self na likh ke seedha linear bna de to jab hum forward method\n",
        "per jayenge tab ye bus class bna dega nural natwark nhi bnaye ga kyoki iske pass baat karne ka jariya nhi th parent class\n",
        "(nn.Linear ) se to self likhne mai ye parent calss or farward method se baat krpayeg ke kya krna hai\n",
        "\"\"\"\n",
        "model= LinearRegression()"
      ],
      "metadata": {
        "id": "uOle4Q1AnE9G"
      },
      "execution_count": 7,
      "outputs": []
    },
    {
      "cell_type": "code",
      "source": [
        "critarian = nn.MSELoss()\n",
        "optimizer = torch.optim.SGD(model.parameters(), lr=0.01)"
      ],
      "metadata": {
        "id": "D5oBShIoUKmP"
      },
      "execution_count": 8,
      "outputs": []
    },
    {
      "cell_type": "code",
      "source": [
        "num_epochs=1000"
      ],
      "metadata": {
        "id": "C6uzV8ilTlyF"
      },
      "execution_count": 9,
      "outputs": []
    },
    {
      "cell_type": "code",
      "source": [
        "for epoch in range(num_epochs):\n",
        "  model.train()\n",
        "  out= model(x_train)\n",
        "  loss= critarian(out,y_train)\n",
        "  optimizer.zero_grad()\n",
        "  \"\"\"\n",
        "  zero_gred() gradients ko zero  krega befor the next backward pass(after update parameter its reset 0 for next step)\n",
        "  \"\"\"\n",
        "  loss.backward()#backpropogation lgaya hai model ke uppeer\n",
        "  optimizer.step()# its use for update model parameters(bias,wight) using gradients comput during back propogation\n",
        "  if (epoch+1)%20==0:# epochs +1 means epocsh 0 se start na hoke 1 se start hoga or 20 ke dividation pr chale ga  20,40,60\n",
        "\n",
        "    print(f'epoch:{epoch+1},loss={loss.item():.4f}')\n"
      ],
      "metadata": {
        "colab": {
          "base_uri": "https://localhost:8080/"
        },
        "id": "If_EYrh9TuP4",
        "outputId": "791dc333-3b3c-4dc5-ab88-2851c505f9b5"
      },
      "execution_count": 10,
      "outputs": [
        {
          "output_type": "stream",
          "name": "stdout",
          "text": [
            "epoch:20,loss=0.4775\n",
            "epoch:40,loss=0.4197\n",
            "epoch:60,loss=0.3690\n",
            "epoch:80,loss=0.3244\n",
            "epoch:100,loss=0.2852\n",
            "epoch:120,loss=0.2509\n",
            "epoch:140,loss=0.2207\n",
            "epoch:160,loss=0.1941\n",
            "epoch:180,loss=0.1708\n",
            "epoch:200,loss=0.1504\n",
            "epoch:220,loss=0.1324\n",
            "epoch:240,loss=0.1166\n",
            "epoch:260,loss=0.1027\n",
            "epoch:280,loss=0.0905\n",
            "epoch:300,loss=0.0798\n",
            "epoch:320,loss=0.0704\n",
            "epoch:340,loss=0.0622\n",
            "epoch:360,loss=0.0549\n",
            "epoch:380,loss=0.0485\n",
            "epoch:400,loss=0.0430\n",
            "epoch:420,loss=0.0380\n",
            "epoch:440,loss=0.0337\n",
            "epoch:460,loss=0.0299\n",
            "epoch:480,loss=0.0266\n",
            "epoch:500,loss=0.0237\n",
            "epoch:520,loss=0.0211\n",
            "epoch:540,loss=0.0188\n",
            "epoch:560,loss=0.0169\n",
            "epoch:580,loss=0.0151\n",
            "epoch:600,loss=0.0136\n",
            "epoch:620,loss=0.0122\n",
            "epoch:640,loss=0.0111\n",
            "epoch:660,loss=0.0100\n",
            "epoch:680,loss=0.0091\n",
            "epoch:700,loss=0.0083\n",
            "epoch:720,loss=0.0076\n",
            "epoch:740,loss=0.0070\n",
            "epoch:760,loss=0.0065\n",
            "epoch:780,loss=0.0060\n",
            "epoch:800,loss=0.0056\n",
            "epoch:820,loss=0.0052\n",
            "epoch:840,loss=0.0049\n",
            "epoch:860,loss=0.0046\n",
            "epoch:880,loss=0.0043\n",
            "epoch:900,loss=0.0041\n",
            "epoch:920,loss=0.0039\n",
            "epoch:940,loss=0.0038\n",
            "epoch:960,loss=0.0036\n",
            "epoch:980,loss=0.0035\n",
            "epoch:1000,loss=0.0034\n"
          ]
        }
      ]
    },
    {
      "cell_type": "code",
      "source": [
        "model.eval()#model ko test krne ke liye upog krte hai\n",
        "with torch.no_grad():\n",
        "#iska matlab hai ke ye wight or bias ko update nhi krega yadi require_grad=True hota hai iska matlab hai ke jab backpropogation hoga\n",
        "#tab wight or bias(graidient parameter) update kar skta hai jaha jaha require_gard=true hoga\n",
        "  prediction= model(x_train)\n",
        "prediction.data.numpy()#data set ko visulaize krne ke liye upyoj kiya"
      ],
      "metadata": {
        "colab": {
          "base_uri": "https://localhost:8080/"
        },
        "id": "OGDZiHkiVxNV",
        "outputId": "a02f893d-a645-4da5-8ed8-1b34800c6e7e"
      },
      "execution_count": 11,
      "outputs": [
        {
          "output_type": "execute_result",
          "data": {
            "text/plain": [
              "array([[4.3976083],\n",
              "       [5.561468 ],\n",
              "       [6.531351 ],\n",
              "       [2.3608537],\n",
              "       [7.7921996]], dtype=float32)"
            ]
          },
          "metadata": {},
          "execution_count": 11
        }
      ]
    },
    {
      "cell_type": "code",
      "source": [
        "model.state_dict()#iske dwara wight or bias ke value ko update ke baad kya hai wo value dheeka ja skta hai"
      ],
      "metadata": {
        "colab": {
          "base_uri": "https://localhost:8080/"
        },
        "id": "xNlsZU3WZwbE",
        "outputId": "fb4f11aa-ed9a-41ee-c072-0ce4db55a625"
      },
      "execution_count": 12,
      "outputs": [
        {
          "output_type": "execute_result",
          "data": {
            "text/plain": [
              "OrderedDict([('linear.weight', tensor([[0.9699]])),\n",
              "             ('linear.bias', tensor([1.1970]))])"
            ]
          },
          "metadata": {},
          "execution_count": 12
        }
      ]
    },
    {
      "cell_type": "code",
      "source": [],
      "metadata": {
        "id": "QUDMxXxVa0D2"
      },
      "execution_count": 12,
      "outputs": []
    },
    {
      "cell_type": "markdown",
      "source": [],
      "metadata": {
        "id": "VV7GS1zFa68L"
      }
    }
  ]
}